{
 "metadata": {
  "name": "",
  "signature": "sha256:d5fb7946ea93283d010dec65f41a2994e106bdf11d6c908fc51f9923054bc5e9"
 },
 "nbformat": 3,
 "nbformat_minor": 0,
 "worksheets": [
  {
   "cells": [
    {
     "cell_type": "code",
     "collapsed": false,
     "input": [],
     "language": "python",
     "metadata": {},
     "outputs": []
    }
   ],
   "metadata": {}
  }
 ]
}