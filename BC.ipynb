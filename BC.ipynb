{
 "metadata": {
  "name": "",
  "signature": "sha256:d6dbff945471a32e7b9e28ece3e063760e9aed8a812b2e5aff7dd6641e30311b"
 },
 "nbformat": 3,
 "nbformat_minor": 0,
 "worksheets": [
  {
   "cells": [
    {
     "cell_type": "code",
     "collapsed": false,
     "input": [
      "num_players = 5\n",
      "num_spies = 1 + (num_players-1) / 3 # 5 <= Num_players <= 10 \n",
      "num_resistance = num_players - num_spies\n",
      "print \"Players: %d\\nSpies: %d\\nResistance: %d\" % (num_players, num_spies, num_resistance)"
     ],
     "language": "python",
     "metadata": {},
     "outputs": [
      {
       "output_type": "stream",
       "stream": "stdout",
       "text": [
        "Players: 5\n",
        "Spies: 2\n",
        "Resistance: 3\n"
       ]
      }
     ],
     "prompt_number": 17
    },
    {
     "cell_type": "code",
     "collapsed": false,
     "input": [
      "x = [ np.random.rand(num_players, 1) ]\n",
      "delta = .1\n",
      "\n",
      "for i in xrange(100):\n",
      "    new_x = np.zeros((num_players, 1))\n",
      "    \n",
      "    for j in xrange(num_players):\n",
      "        within_range = 0\n",
      "        total_opinion = 0.\n",
      "        \n",
      "        for k in xrange(num_players):\n",
      "            if abs(x[-1][j] - x[-1][k]) <= delta:\n",
      "                within_range += 1\n",
      "                total_opinion += x[-1][k]\n",
      "        \n",
      "        assert within_range >= 1, \"Oh shit.\"\n",
      "        \n",
      "        new_x[j] = (1./within_range) * total_opinion\n",
      "    \n",
      "    x.append(new_x)"
     ],
     "language": "python",
     "metadata": {},
     "outputs": [],
     "prompt_number": 22
    },
    {
     "cell_type": "code",
     "collapsed": false,
     "input": [
      "print x[0]\n",
      "print x[-1]"
     ],
     "language": "python",
     "metadata": {},
     "outputs": [
      {
       "output_type": "stream",
       "stream": "stdout",
       "text": [
        "[[ 0.73611432]\n",
        " [ 0.23599892]\n",
        " [ 0.09397839]\n",
        " [ 0.69927223]\n",
        " [ 0.1484098 ]]\n",
        "[[ 0.71769327]\n",
        " [ 0.15762027]\n",
        " [ 0.15762027]\n",
        " [ 0.71769327]\n",
        " [ 0.15762027]]\n"
       ]
      }
     ],
     "prompt_number": 23
    },
    {
     "cell_type": "code",
     "collapsed": false,
     "input": [],
     "language": "python",
     "metadata": {},
     "outputs": []
    }
   ],
   "metadata": {}
  }
 ]
}