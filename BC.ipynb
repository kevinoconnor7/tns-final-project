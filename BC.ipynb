{
 "metadata": {
  "name": "",
  "signature": "sha256:edabece4c4eeb1bf457ac603a3890272710f33370fc3e0adb2c12f7984856eda"
 },
 "nbformat": 3,
 "nbformat_minor": 0,
 "worksheets": [
  {
   "cells": [
    {
     "cell_type": "code",
     "collapsed": false,
     "input": [
      "from __future__ import division, print_function\n",
      "num_players = 5\n",
      "num_spies = 1 + (num_players-1) // 3 # 5 <= Num_players <= 10 \n",
      "num_resistance = num_players - num_spies\n",
      "print(\"Players: %d\\nSpies: %d\\nResistance: %d\" % (num_players, num_spies, num_resistance))"
     ],
     "language": "python",
     "metadata": {},
     "outputs": [
      {
       "output_type": "stream",
       "stream": "stdout",
       "text": [
        "Players: 5\n",
        "Spies: 2\n",
        "Resistance: 3\n"
       ]
      }
     ],
     "prompt_number": 4
    },
    {
     "cell_type": "code",
     "collapsed": false,
     "input": [
      "# Each row of x defines the column vector of player's opinion of the ith player\n",
      "import numpy as np\n",
      "x = [[]]\n",
      "for i in range(num_players):\n",
      "    x[0].append(np.random.rand(num_players, 1))\n",
      "    \n",
      "# Delta defines the max difference at which opinions can differ by for communication\n",
      "# to continue between those two nodes on that single opinion\n",
      "delta = .4\n",
      "\n",
      "for i in range(100):\n",
      "    new_x_set = []\n",
      "    for eval_player in range(num_players):\n",
      "        new_x = np.zeros((num_players, 1))\n",
      "\n",
      "        for j in range(num_players):\n",
      "            within_range = 0\n",
      "            total_opinion = 0.\n",
      "\n",
      "            for k in range(num_players):\n",
      "                if abs(x[-1][eval_player][j] - x[-1][eval_player][k]) <= delta:\n",
      "                    within_range += 1\n",
      "                    total_opinion += x[-1][eval_player][k]\n",
      "\n",
      "            assert within_range >= 1, \"Oh shit.\"\n",
      "\n",
      "            new_x[j] = (1./within_range) * total_opinion\n",
      "\n",
      "        new_x_set.append(new_x)\n",
      "    x.append(new_x_set)"
     ],
     "language": "python",
     "metadata": {},
     "outputs": [],
     "prompt_number": 12
    },
    {
     "cell_type": "code",
     "collapsed": false,
     "input": [
      "print(\"----------------------------- Initial Opinions Of -----------------------------\")\n",
      "for i in range(len(x[0])):\n",
      "    spy = \"Spy\" if i < num_spies else \"Resistance\"\n",
      "    print(\"Player %d - %s:\\n%s\" % (i, spy, str(x[0][i])))\n",
      "\n",
      "print(\"----------------------------- Final Opinions Of -----------------------------\")\n",
      "for i in range(len(x[-1])):\n",
      "    spy = \"Spy\" if i < num_spies else \"Resistance\"\n",
      "    print(\"Player %d - %s:\\n%s\" % (i, spy, str(x[-1][i])))"
     ],
     "language": "python",
     "metadata": {},
     "outputs": [
      {
       "output_type": "stream",
       "stream": "stdout",
       "text": [
        "----------------------------- Initial Opinions Of -----------------------------\n",
        "Player 0 - Spy:\n",
        "[[ 0.8161087 ]\n",
        " [ 0.16736331]\n",
        " [ 0.99796886]\n",
        " [ 0.39349691]\n",
        " [ 0.08360659]]\n",
        "Player 1 - Spy:\n",
        "[[ 0.84365794]\n",
        " [ 0.4325598 ]\n",
        " [ 0.24188244]\n",
        " [ 0.73139767]\n",
        " [ 0.24273959]]\n",
        "Player 2 - Resistance:\n",
        "[[ 0.58548007]\n",
        " [ 0.61436013]\n",
        " [ 0.69361844]\n",
        " [ 0.34447325]\n",
        " [ 0.9126875 ]]\n",
        "Player 3 - Resistance:\n",
        "[[ 0.08811396]\n",
        " [ 0.28200781]\n",
        " [ 0.52846233]\n",
        " [ 0.01038341]\n",
        " [ 0.38158203]]\n",
        "Player 4 - Resistance:\n",
        "[[ 0.38424446]\n",
        " [ 0.53631397]\n",
        " [ 0.13775508]\n",
        " [ 0.76119506]\n",
        " [ 0.09175056]]\n",
        "----------------------------- Final Opinions Of -----------------------------\n",
        "Player 0 - Spy:\n",
        "[[ 0.90703878]\n",
        " [ 0.21482227]\n",
        " [ 0.90703878]\n",
        " [ 0.21482227]\n",
        " [ 0.21482227]]\n",
        "Player 1 - Spy:\n",
        "[[ 0.4922989]\n",
        " [ 0.4922989]\n",
        " [ 0.4922989]\n",
        " [ 0.4922989]\n",
        " [ 0.4922989]]\n",
        "Player 2 - Resistance:\n",
        "[[ 0.63027823]\n",
        " [ 0.63027823]\n",
        " [ 0.63027823]\n",
        " [ 0.63027823]\n",
        " [ 0.63027823]]\n",
        "Player 3 - Resistance:\n",
        "[[ 0.25892283]\n",
        " [ 0.25892283]\n",
        " [ 0.25892283]\n",
        " [ 0.25892283]\n",
        " [ 0.25892283]]\n",
        "Player 4 - Resistance:\n",
        "[[ 0.37796257]\n",
        " [ 0.37796257]\n",
        " [ 0.37796257]\n",
        " [ 0.37796257]\n",
        " [ 0.37796257]]\n"
       ]
      }
     ],
     "prompt_number": 16
    },
    {
     "cell_type": "code",
     "collapsed": false,
     "input": [],
     "language": "python",
     "metadata": {},
     "outputs": [],
     "prompt_number": 30
    },
    {
     "cell_type": "code",
     "collapsed": false,
     "input": [],
     "language": "python",
     "metadata": {},
     "outputs": []
    }
   ],
   "metadata": {}
  }
 ]
}