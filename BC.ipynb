{
 "metadata": {
  "name": "",
  "signature": "sha256:1cbccceec3c93e0483e10fdb768bc8b8da641e04b4f9d7eb643831b880fa44f6"
 },
 "nbformat": 3,
 "nbformat_minor": 0,
 "worksheets": [
  {
   "cells": [
    {
     "cell_type": "code",
     "collapsed": false,
     "input": [
      "num_players = 5\n",
      "num_spies = 1 + (num_players-1) / 3 # 5 <= Num_players <= 10 \n",
      "num_resistance = num_players - num_spies\n",
      "print \"Players: %d\\nSpies: %d\\nResistance: %d\" % (num_players, num_spies, num_resistance)"
     ],
     "language": "python",
     "metadata": {},
     "outputs": [
      {
       "output_type": "stream",
       "stream": "stdout",
       "text": [
        "Players: 5\n",
        "Spies: 2\n",
        "Resistance: 3\n"
       ]
      }
     ],
     "prompt_number": 28
    },
    {
     "cell_type": "code",
     "collapsed": false,
     "input": [
      "# Each row of x defines the column vector of player's opinion of the ith player\n",
      "x = [[]]\n",
      "for i in xrange(num_players):\n",
      "    x[0].append(np.random.rand(num_players, 1))\n",
      "    \n",
      "# Delta defines the max difference at which opinions can differ by for communication\n",
      "# to continue between those two nodes on that single opinion\n",
      "delta = .4\n",
      "\n",
      "for i in xrange(100):\n",
      "    new_x_set = []\n",
      "    for eval_player in xrange(num_players):\n",
      "        new_x = np.zeros((num_players, 1))\n",
      "\n",
      "        for j in xrange(num_players):\n",
      "            within_range = 0\n",
      "            total_opinion = 0.\n",
      "\n",
      "            for k in xrange(num_players):\n",
      "                if abs(x[-1][eval_player][j] - x[-1][eval_player][k]) <= delta:\n",
      "                    within_range += 1\n",
      "                    total_opinion += x[-1][eval_player][k]\n",
      "\n",
      "            assert within_range >= 1, \"Oh shit.\"\n",
      "\n",
      "            new_x[j] = (1./within_range) * total_opinion\n",
      "\n",
      "        new_x_set.append(new_x)\n",
      "    x.append(new_x_set)"
     ],
     "language": "python",
     "metadata": {},
     "outputs": [],
     "prompt_number": 29
    },
    {
     "cell_type": "code",
     "collapsed": false,
     "input": [
      "print \"----------------------------- Initial Opinions Of -----------------------------\"\n",
      "for i in xrange(len(x[0])):\n",
      "    spy = \"Spy\" if i < num_spies else \"Resistance\"\n",
      "    print \"Player %d - %s:\\n%s\" % (i, spy, str(x[0][i]))\n",
      "\n",
      "print \"----------------------------- Final Opinions Of -----------------------------\"\n",
      "for i in xrange(len(x[-1])):\n",
      "    spy = \"Spy\" if i < num_spies else \"Resistance\"\n",
      "    print \"Player %d - %s:\\n%s\" % (i, spy, str(x[-1][i]))"
     ],
     "language": "python",
     "metadata": {},
     "outputs": [
      {
       "output_type": "stream",
       "stream": "stdout",
       "text": [
        "----------------------------- Initial Opinions Of -----------------------------\n",
        "Player 0 - Spy:\n",
        "[[ 0.94687182]\n",
        " [ 0.30958511]\n",
        " [ 0.90635774]\n",
        " [ 0.05126471]\n",
        " [ 0.41807006]]\n",
        "Player 1 - Spy:\n",
        "[[ 0.85196432]\n",
        " [ 0.32652702]\n",
        " [ 0.99777414]\n",
        " [ 0.20748513]\n",
        " [ 0.42473228]]\n",
        "Player 2 - Resistance:\n",
        "[[ 0.52357993]\n",
        " [ 0.96179964]\n",
        " [ 0.90180632]\n",
        " [ 0.8342658 ]\n",
        " [ 0.16430959]]\n",
        "Player 3 - Resistance:\n",
        "[[ 0.28926297]\n",
        " [ 0.0283481 ]\n",
        " [ 0.46361348]\n",
        " [ 0.97902575]\n",
        " [ 0.35233888]]\n",
        "Player 4 - Resistance:\n",
        "[[ 0.50571598]\n",
        " [ 0.25788321]\n",
        " [ 0.01350629]\n",
        " [ 0.98145771]\n",
        " [ 0.16500775]]\n",
        "----------------------------- Final Opinions Of -----------------------------\n",
        "Player 0 - Spy:\n",
        "[[ 0.92661478]\n",
        " [ 0.25963996]\n",
        " [ 0.92661478]\n",
        " [ 0.25963996]\n",
        " [ 0.25963996]]\n",
        "Player 1 - Spy:\n",
        "[[ 0.92486923]\n",
        " [ 0.31958148]\n",
        " [ 0.92486923]\n",
        " [ 0.31958148]\n",
        " [ 0.31958148]]\n",
        "Player 2 - Resistance:\n",
        "[[ 0.70079261]\n",
        " [ 0.70079261]\n",
        " [ 0.70079261]\n",
        " [ 0.70079261]\n",
        " [ 0.70079261]]\n",
        "Player 3 - Resistance:\n",
        "[[ 0.28962587]\n",
        " [ 0.28962587]\n",
        " [ 0.28962587]\n",
        " [ 0.97902575]\n",
        " [ 0.28962587]]\n",
        "Player 4 - Resistance:\n",
        "[[ 0.2315145 ]\n",
        " [ 0.2315145 ]\n",
        " [ 0.2315145 ]\n",
        " [ 0.98145771]\n",
        " [ 0.2315145 ]]\n"
       ]
      }
     ],
     "prompt_number": 30
    },
    {
     "cell_type": "code",
     "collapsed": false,
     "input": [],
     "language": "python",
     "metadata": {},
     "outputs": [],
     "prompt_number": 30
    },
    {
     "cell_type": "code",
     "collapsed": false,
     "input": [],
     "language": "python",
     "metadata": {},
     "outputs": []
    }
   ],
   "metadata": {}
  }
 ]
}