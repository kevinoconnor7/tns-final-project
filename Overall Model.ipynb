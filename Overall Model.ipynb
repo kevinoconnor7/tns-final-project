{
 "metadata": {
  "name": "",
  "signature": "sha256:44df7370e5cb1be0994aa0fd19df6e6f20b79f1d55e336332fa5aa85a584662d"
 },
 "nbformat": 3,
 "nbformat_minor": 0,
 "worksheets": [
  {
   "cells": [
    {
     "cell_type": "code",
     "collapsed": false,
     "input": [
      "if 'basic_player' in sys.modules:  \n",
      "    del(sys.modules[\"basic_player\"]) \n",
      "if 'game_mod' in sys.modules:  \n",
      "    del(sys.modules[\"game_mod\"]) \n",
      "from basic_player import basic_player\n",
      "from game_mod import game_moderator"
     ],
     "language": "python",
     "metadata": {},
     "outputs": [],
     "prompt_number": 1
    },
    {
     "cell_type": "code",
     "collapsed": false,
     "input": [
      "players = [basic_player() for i in range(5)]\n",
      "\n",
      "print(\"Creating game...\")\n",
      "mod = game_moderator(players, 100)\n",
      "for player in players:\n",
      "    print(\"Player %d is resistance? %s\" % (player.idx, player.faction))\n",
      "    \n",
      "res_score = 0\n",
      "spy_score = 0\n",
      "for i in range(5):\n",
      "    print(\"------------- Starting mission %d -------------\" % i)\n",
      "    for p in mod.players:\n",
      "        print(p.opinions)\n",
      "    result = mod.run_mission(mod.missions[i])\n",
      "    if not result:\n",
      "        spy_score += 1\n",
      "    else: \n",
      "        res_score += 1\n",
      "    print(\"Mission passed? %s\" % result)\n",
      "    \n",
      "    if res_score == 3 or spy_score == 3:\n",
      "        break\n",
      "        \n",
      "if res_score == 3:\n",
      "    print(\"------------- Resistance team wins! -------------\")\n",
      "else:\n",
      "    print(\"------------- Spy team wins! -------------\")"
     ],
     "language": "python",
     "metadata": {},
     "outputs": [
      {
       "output_type": "stream",
       "stream": "stdout",
       "text": [
        "Creating game...\n",
        "Player 0 is resistance? True\n",
        "Player 1 is resistance? True\n",
        "Player 2 is resistance? True\n",
        "Player 3 is resistance? False\n",
        "Player 4 is resistance? False\n",
        "------------- Starting mission 0 -------------\n",
        "[1.0, 0.48485907533046213, 0.4665888868067356, 0.4221851606690895, 0.41979770208885636]\n",
        "[0.5890813977888301, 1.0, 0.4093612676214275, 0.553028431727228, 0.5243985734588292]\n",
        "[0.5185780351701388, 0.4689834708801039, 1.0, 0.4158112628614825, 0.4353013365108021]\n",
        "[1.0, 1.0, 1.0, 0.0, 0.0]\n",
        "[1.0, 1.0, 1.0, 0.0, 0.0]\n",
        "Voting round 0\n",
        "0: Is resistance? True\n",
        "4: Is resistance? False\n",
        "Voting round 1\n",
        "3: Is resistance? False\n",
        "4: Is resistance? False\n",
        "Mission passed? False"
       ]
      },
      {
       "output_type": "stream",
       "stream": "stdout",
       "text": [
        "\n",
        "------------- Starting mission 1 -------------\n",
        "[0.2879999999999999, 0.62251396098903478, 0.36456937031442094, 0.039154253461806787, 0.15771355724364922]\n",
        "[0.40501332156529291, 0.23999999999999994, 0.36456937031442094, 0.039154253461806787, 0.15771355724364922]\n",
        "[0.40501332156529291, 0.62251396098903478, 0.23999999999999994, 0.039154253461806787, 0.15771355724364922]\n",
        "[1.0, 1.0, 1.0, 0.0, 0.0]\n",
        "[1.0, 1.0, 1.0, 0.0, 0.0]\n",
        "Voting round 0\n",
        "4: Is resistance? False\n",
        "3: Is resistance? False\n",
        "1: Is resistance? True\n",
        "Voting round 1\n",
        "3: Is resistance? False\n",
        "0: Is resistance? True\n",
        "1: Is resistance? True\n",
        "Voting round 2\n",
        "4: Is resistance? False"
       ]
      },
      {
       "output_type": "stream",
       "stream": "stdout",
       "text": [
        "\n",
        "0: Is resistance? True\n",
        "1: Is resistance? True\n",
        "Voting round 3\n",
        "3: Is resistance? False\n",
        "4: Is resistance? False\n",
        "1: Is resistance? True\n",
        "Voting round 4\n",
        "3: Is resistance? False\n",
        "4: Is resistance? False\n",
        "2: Is resistance? True\n",
        "Voting round 5"
       ]
      },
      {
       "output_type": "stream",
       "stream": "stdout",
       "text": [
        "\n",
        "4: Is resistance? False\n",
        "3: Is resistance? False\n",
        "0: Is resistance? True\n",
        "Mission passed? False\n",
        "------------- Starting mission 2 -------------\n",
        "[0.8599633919999995, 0.60157765390333806, 0.88898133804221646, 0.99953802671488179, 0.19743806485759352]\n",
        "[0.84413129984379387, 0.7166361599999996, 0.88898133804221646, 0.99953802671488179, 0.19743806485759352]\n",
        "[0.84413129984379387, 0.60157765390333806, 0.7166361599999996, 0.99953802671488179, 0.19743806485759352]\n",
        "[1.0, 1.0, 1.0, 0.0, 0.0]\n",
        "[1.0, 1.0, 1.0, 0.0, 0.0]\n",
        "Voting round 0\n",
        "3: Is resistance? False\n",
        "0: Is resistance? True\n",
        "Mission passed? False\n",
        "------------- Spy team wins! -------------\n"
       ]
      }
     ],
     "prompt_number": 2
    },
    {
     "cell_type": "code",
     "collapsed": false,
     "input": [],
     "language": "python",
     "metadata": {},
     "outputs": [],
     "prompt_number": 188
    },
    {
     "cell_type": "code",
     "collapsed": false,
     "input": [
      "spy_wins = 0\n",
      "resistance_wins = 0\n",
      "missions_to_win = {\n",
      "    3: 0,\n",
      "    4: 0,\n",
      "    5: 0\n",
      "}\n",
      "match_players = []\n",
      "match_results = [] # True == \"res win\" else \"spy win\"\n",
      "trials = 100\n",
      "for i in range(trials):\n",
      "    players = [basic_player() for i in range(5)]\n",
      "\n",
      "    #print(\"Creating game...\")\n",
      "    mod = game_moderator(players, 100)\n",
      "    #for player in players:\n",
      "    #    print(\"Player %d is resistance? %s\" % (player.idx, player.faction))\n",
      "\n",
      "    res_score = 0\n",
      "    spy_score = 0\n",
      "    win_round = 5\n",
      "    for i in range(5):\n",
      "        #print(\"------------- Starting mission %d -------------\" % i)\n",
      "        result = mod.run_mission(mod.missions[i], silent=True)\n",
      "        if not result:\n",
      "            spy_score += 1\n",
      "        else: \n",
      "            res_score += 1\n",
      "        #print(\"Mission passed? %s\" % result)\n",
      "\n",
      "        if res_score == 3 or spy_score == 3:\n",
      "            win_round = i\n",
      "            break\n",
      "\n",
      "    if res_score == 3:\n",
      "        resistance_wins += 1\n",
      "        match_results.append(True)\n",
      "    else:\n",
      "        spy_wins += 1\n",
      "        match_results.append(False)\n",
      "    missions_to_win[win_round+1] += 1\n",
      "    match_players.append(players)\n",
      "    "
     ],
     "language": "python",
     "metadata": {},
     "outputs": [],
     "prompt_number": 189
    },
    {
     "cell_type": "code",
     "collapsed": false,
     "input": [
      "labels = 'Spies', 'Resistance'\n",
      "sizes = [(float(spy_wins)/trials)*100, (float(resistance_wins)/trials)*100]\n",
      "colors = ['lightcoral', 'lightskyblue']\n",
      "\n",
      "plt.pie(sizes, labels=labels, colors=colors,\n",
      "        autopct='%1.1f%%', shadow=True, startangle=90)\n",
      "# Set aspect ratio to be equal so that pie is drawn as a circle.\n",
      "plt.axis('equal')\n",
      "\n",
      "plt.show()"
     ],
     "language": "python",
     "metadata": {},
     "outputs": [
      {
       "metadata": {},
       "output_type": "display_data",
       "png": "[encoded data removed]",
       "text": [
        "<matplotlib.figure.Figure at 0x110841cd0>"
       ]
      }
     ],
     "prompt_number": 190
    },
    {
     "cell_type": "code",
     "collapsed": false,
     "input": [
      "spy_graph_wins = sum([1 for i in range(len(match_results)) if not match_players[i][0].faction and not match_results[i]]), sum([1 for i in range(len(match_results)) if match_players[i][0].faction and not match_results[i]])\n",
      "res_graph_wins = sum([1 for i in range(len(match_results)) if not match_players[i][0].faction and match_results[i]]), sum([1 for i in range(len(match_results)) if match_players[i][0].faction and match_results[i]])\n",
      "fig, ax = plt.subplots()\n",
      "N = 2\n",
      "ind = np.arange(N)    # the x locations for the groups\n",
      "width = 0.35         # the width of the bars\n",
      "p1 = ax.bar(ind, spy_graph_wins, width, color='r', bottom=0)\n",
      "p2 = ax.bar(ind+width, res_graph_wins, width, color='y', bottom=0)\n",
      "\n",
      "ax.set_title('Wins by start and team')\n",
      "ax.set_xticks(ind+width)\n",
      "ax.set_xticklabels( ('Spy Start', 'Resistance Start') )\n",
      "\n",
      "ax.legend( (p1[0], p2[0]), ('Spys Win', 'Resistance Wins') )\n",
      "ax.autoscale_view()\n",
      "\n",
      "plt.show()"
     ],
     "language": "python",
     "metadata": {},
     "outputs": [
      {
       "metadata": {},
       "output_type": "display_data",
       "png": "[encoded data removed]",
       "text": [
        "<matplotlib.figure.Figure at 0x11082ae50>"
       ]
      }
     ],
     "prompt_number": 191
    },
    {
     "cell_type": "code",
     "collapsed": false,
     "input": [],
     "language": "python",
     "metadata": {},
     "outputs": [],
     "prompt_number": 180
    },
    {
     "cell_type": "code",
     "collapsed": false,
     "input": [],
     "language": "python",
     "metadata": {},
     "outputs": []
    }
   ],
   "metadata": {}
  }
 ]
}