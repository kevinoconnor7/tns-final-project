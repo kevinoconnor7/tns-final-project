{
 "metadata": {
  "name": "",
  "signature": "sha256:2ecfb6734d1145e81f4c904fce66d3b7be6f28487374da90980de19bcdae7280"
 },
 "nbformat": 3,
 "nbformat_minor": 0,
 "worksheets": [
  {
   "cells": [
    {
     "cell_type": "code",
     "collapsed": false,
     "input": [
      "import sys\n",
      "if 'basic_player' in sys.modules:  \n",
      "    del(sys.modules[\"basic_player\"]) \n",
      "if 'game_mod' in sys.modules:  \n",
      "    del(sys.modules[\"game_mod\"]) \n",
      "from basic_player import basic_player\n",
      "from game_mod import game_moderator"
     ],
     "language": "python",
     "metadata": {},
     "outputs": [],
     "prompt_number": 2
    },
    {
     "cell_type": "code",
     "collapsed": false,
     "input": [
      "players = [basic_player() for i in range(5)]\n",
      "\n",
      "print(\"Creating game...\")\n",
      "mod = game_moderator(players, 100)\n",
      "for player in players:\n",
      "    print(\"Player %d is resistance? %s\" % (player.idx, player.faction))\n",
      "    \n",
      "res_score = 0\n",
      "spy_score = 0\n",
      "for i in range(5):\n",
      "    print(\"------------- Starting mission %d -------------\" % i)\n",
      "    for p in mod.players:\n",
      "        print(p.opinions)\n",
      "    result = mod.run_mission(mod.missions[i])\n",
      "    if not result:\n",
      "        spy_score += 1\n",
      "    else: \n",
      "        res_score += 1\n",
      "    print(\"Mission passed? %s\" % result)\n",
      "    \n",
      "    if res_score == 3 or spy_score == 3:\n",
      "        break\n",
      "        \n",
      "if res_score == 3:\n",
      "    print(\"------------- Resistance team wins! -------------\")\n",
      "else:\n",
      "    print(\"------------- Spy team wins! -------------\")"
     ],
     "language": "python",
     "metadata": {},
     "outputs": [
      {
       "output_type": "stream",
       "stream": "stdout",
       "text": [
        "Creating game...\n",
        "Player 0 is resistance? True\n",
        "Player 1 is resistance? True\n",
        "Player 2 is resistance? True\n",
        "Player 3 is resistance? False\n",
        "Player 4 is resistance? False\n",
        "------------- Starting mission 0 -------------\n",
        "[1.0, 0.5380728124748164, 0.5044831164077029, 0.45373194858833316, 0.48880293385474466]\n",
        "[0.5083933132248024, 1.0, 0.574633700006846, 0.5792917462902856, 0.4890032320897483]\n",
        "[0.40660050336487114, 0.5898704234833559, 1.0, 0.46971370956413466, 0.4234571703182125]\n",
        "[1.0, 1.0, 1.0, 0.0, 0.0]\n",
        "[1.0, 1.0, 1.0, 0.0, 0.0]\n",
        "Voting round 0\n",
        "0: Is resistance? True\n",
        "2: Is resistance? True\n",
        "Voting round 1\n",
        "1: Is resistance? True\n",
        "3: Is resistance? False\n",
        "Mission passed? False\n",
        "------------- Starting mission 1 -------------\n",
        "[1, 0.68358645081608205, 0.87143649055195471, 0.73578914911393556, 0.70016389450648364]\n",
        "[0.71992215789148817, 1, 0.58095766036796981, 1, 1]\n",
        "[1, 0.68358645081608205, 1, 0.73578914911393556, 0.70016389450648364]\n",
        "[1.0, 1.0, 1.0, 0.0, 0.0]\n",
        "[1.0, 1.0, 1.0, 0.0, 0.0]\n",
        "Voting round 0\n",
        "2: Is resistance? True\n",
        "4: Is resistance? False\n",
        "3: Is resistance? False\n",
        "Voting round 1\n",
        "3: Is resistance? False"
       ]
      },
      {
       "output_type": "stream",
       "stream": "stdout",
       "text": [
        "\n",
        "0: Is resistance? True\n",
        "1: Is resistance? True\n",
        "Voting round 2\n",
        "4: Is resistance? False\n",
        "0: Is resistance? True\n",
        "1: Is resistance? True\n",
        "Voting round 3\n",
        "0: Is resistance? True\n",
        "1: Is resistance? True\n",
        "4: Is resistance? False\n",
        "Voting round 4\n",
        "1: Is resistance? True\n",
        "3: Is resistance? False\n",
        "4: Is resistance? False\n",
        "Voting round 5"
       ]
      },
      {
       "output_type": "stream",
       "stream": "stdout",
       "text": [
        "\n",
        "2: Is resistance? True\n",
        "1: Is resistance? True\n",
        "4: Is resistance? False\n",
        "Mission passed? False\n",
        "------------- Starting mission 2 -------------\n",
        "[1, 0.23616487825570137, 0.68285541378058789, 1, 0.99243904704135588]\n",
        "[0.89630522795228229, 1, 0.68285541378058789, 1, 0.99243904704135588]\n",
        "[0.89630522795228229, 0.23616487825570137, 1, 1, 0.99243904704135588]\n",
        "[1.0, 1.0, 1.0, 0.0, 0.0]\n",
        "[1.0, 1.0, 1.0, 0.0, 0.0]\n",
        "Voting round 0\n",
        "3: Is resistance? False\n",
        "0: Is resistance? True\n",
        "Voting round 1\n",
        "4: Is resistance? False\n",
        "0: Is resistance? True\n",
        "Voting round 2\n",
        "0: Is resistance? True\n",
        "3: Is resistance? False\n",
        "Mission passed? False"
       ]
      },
      {
       "output_type": "stream",
       "stream": "stdout",
       "text": [
        "\n",
        "------------- Spy team wins! -------------\n"
       ]
      }
     ],
     "prompt_number": 13
    },
    {
     "cell_type": "code",
     "collapsed": false,
     "input": [],
     "language": "python",
     "metadata": {},
     "outputs": [],
     "prompt_number": 188
    },
    {
     "cell_type": "code",
     "collapsed": false,
     "input": [
      "spy_wins = 0\n",
      "resistance_wins = 0\n",
      "missions_to_win = {\n",
      "    3: 0,\n",
      "    4: 0,\n",
      "    5: 0\n",
      "}\n",
      "match_players = []\n",
      "match_results = [] # True == \"res win\" else \"spy win\"\n",
      "trials = 100\n",
      "for i in range(trials):\n",
      "    players = [basic_player() for i in range(5)]\n",
      "\n",
      "    #print(\"Creating game...\")\n",
      "    mod = game_moderator(players, 100)\n",
      "    #for player in players:\n",
      "    #    print(\"Player %d is resistance? %s\" % (player.idx, player.faction))\n",
      "\n",
      "    res_score = 0\n",
      "    spy_score = 0\n",
      "    win_round = 5\n",
      "    for i in range(5):\n",
      "        #print(\"------------- Starting mission %d -------------\" % i)\n",
      "        result = mod.run_mission(mod.missions[i], silent=True)\n",
      "        if not result:\n",
      "            spy_score += 1\n",
      "        else: \n",
      "            res_score += 1\n",
      "        #print(\"Mission passed? %s\" % result)\n",
      "\n",
      "        if res_score == 3 or spy_score == 3:\n",
      "            win_round = i\n",
      "            break\n",
      "\n",
      "    if res_score == 3:\n",
      "        resistance_wins += 1\n",
      "        match_results.append(True)\n",
      "    else:\n",
      "        spy_wins += 1\n",
      "        match_results.append(False)\n",
      "    missions_to_win[win_round+1] += 1\n",
      "    match_players.append(players)\n",
      "    "
     ],
     "language": "python",
     "metadata": {},
     "outputs": [],
     "prompt_number": 14
    },
    {
     "cell_type": "code",
     "collapsed": false,
     "input": [
      "%matplotlib inline\n",
      "labels = 'Spies', 'Resistance'\n",
      "sizes = [(float(spy_wins)/trials)*100, (float(resistance_wins)/trials)*100]\n",
      "colors = ['lightcoral', 'lightskyblue']\n",
      "\n",
      "plt.pie(sizes, labels=labels, colors=colors,\n",
      "        autopct='%1.1f%%', shadow=True, startangle=90)\n",
      "# Set aspect ratio to be equal so that pie is drawn as a circle.\n",
      "plt.axis('equal')\n",
      "\n",
      "plt.show()"
     ],
     "language": "python",
     "metadata": {},
     "outputs": [
      {
       "ename": "NameError",
       "evalue": "name 'spy_wins' is not defined",
       "output_type": "pyerr",
       "traceback": [
        "\u001b[1;31m---------------------------------------------------------------------------\u001b[0m\n\u001b[1;31mNameError\u001b[0m                                 Traceback (most recent call last)",
        "\u001b[1;32m<ipython-input-1-b88370ced0b3>\u001b[0m in \u001b[0;36m<module>\u001b[1;34m()\u001b[0m\n\u001b[0;32m      1\u001b[0m \u001b[0mget_ipython\u001b[0m\u001b[1;33m(\u001b[0m\u001b[1;33m)\u001b[0m\u001b[1;33m.\u001b[0m\u001b[0mmagic\u001b[0m\u001b[1;33m(\u001b[0m\u001b[1;34m'matplotlib inline'\u001b[0m\u001b[1;33m)\u001b[0m\u001b[1;33m\u001b[0m\u001b[0m\n\u001b[0;32m      2\u001b[0m \u001b[0mlabels\u001b[0m \u001b[1;33m=\u001b[0m \u001b[1;34m'Spies'\u001b[0m\u001b[1;33m,\u001b[0m \u001b[1;34m'Resistance'\u001b[0m\u001b[1;33m\u001b[0m\u001b[0m\n\u001b[1;32m----> 3\u001b[1;33m \u001b[0msizes\u001b[0m \u001b[1;33m=\u001b[0m \u001b[1;33m[\u001b[0m\u001b[1;33m(\u001b[0m\u001b[0mfloat\u001b[0m\u001b[1;33m(\u001b[0m\u001b[0mspy_wins\u001b[0m\u001b[1;33m)\u001b[0m\u001b[1;33m/\u001b[0m\u001b[0mtrials\u001b[0m\u001b[1;33m)\u001b[0m\u001b[1;33m*\u001b[0m\u001b[1;36m100\u001b[0m\u001b[1;33m,\u001b[0m \u001b[1;33m(\u001b[0m\u001b[0mfloat\u001b[0m\u001b[1;33m(\u001b[0m\u001b[0mresistance_wins\u001b[0m\u001b[1;33m)\u001b[0m\u001b[1;33m/\u001b[0m\u001b[0mtrials\u001b[0m\u001b[1;33m)\u001b[0m\u001b[1;33m*\u001b[0m\u001b[1;36m100\u001b[0m\u001b[1;33m]\u001b[0m\u001b[1;33m\u001b[0m\u001b[0m\n\u001b[0m\u001b[0;32m      4\u001b[0m \u001b[0mcolors\u001b[0m \u001b[1;33m=\u001b[0m \u001b[1;33m[\u001b[0m\u001b[1;34m'lightcoral'\u001b[0m\u001b[1;33m,\u001b[0m \u001b[1;34m'lightskyblue'\u001b[0m\u001b[1;33m]\u001b[0m\u001b[1;33m\u001b[0m\u001b[0m\n\u001b[0;32m      5\u001b[0m \u001b[1;33m\u001b[0m\u001b[0m\n",
        "\u001b[1;31mNameError\u001b[0m: name 'spy_wins' is not defined"
       ]
      }
     ],
     "prompt_number": 1
    },
    {
     "cell_type": "code",
     "collapsed": false,
     "input": [
      "spy_graph_wins = sum([1 for i in range(len(match_results)) if not match_players[i][0].faction and not match_results[i]]), sum([1 for i in range(len(match_results)) if match_players[i][0].faction and not match_results[i]])\n",
      "res_graph_wins = sum([1 for i in range(len(match_results)) if not match_players[i][0].faction and match_results[i]]), sum([1 for i in range(len(match_results)) if match_players[i][0].faction and match_results[i]])\n",
      "fig, ax = plt.subplots()\n",
      "N = 2\n",
      "ind = np.arange(N)    # the x locations for the groups\n",
      "width = 0.35         # the width of the bars\n",
      "p1 = ax.bar(ind, spy_graph_wins, width, color='r', bottom=0)\n",
      "p2 = ax.bar(ind+width, res_graph_wins, width, color='y', bottom=0)\n",
      "\n",
      "ax.set_title('Wins by start and team')\n",
      "ax.set_xticks(ind+width)\n",
      "ax.set_xticklabels( ('Spy Start', 'Resistance Start') )\n",
      "\n",
      "ax.legend( (p1[0], p2[0]), ('Spys Win', 'Resistance Wins') )\n",
      "ax.autoscale_view()\n",
      "\n",
      "plt.show()"
     ],
     "language": "python",
     "metadata": {},
     "outputs": [],
     "prompt_number": 18
    },
    {
     "cell_type": "code",
     "collapsed": false,
     "input": [],
     "language": "python",
     "metadata": {},
     "outputs": [],
     "prompt_number": 180
    },
    {
     "cell_type": "code",
     "collapsed": false,
     "input": [],
     "language": "python",
     "metadata": {},
     "outputs": []
    }
   ],
   "metadata": {}
  }
 ]
}