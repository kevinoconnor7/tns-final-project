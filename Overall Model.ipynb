{
 "metadata": {
  "name": "",
  "signature": "sha256:1de355062ef7a666ddc7c1c14e6d348601260abb7c0a821ff92462ead740bb6f"
 },
 "nbformat": 3,
 "nbformat_minor": 0,
 "worksheets": [
  {
   "cells": [
    {
     "cell_type": "code",
     "collapsed": false,
     "input": [
      "if 'basic_player' in sys.modules:  \n",
      "    del(sys.modules[\"basic_player\"]) \n",
      "if 'game_mod' in sys.modules:  \n",
      "    del(sys.modules[\"game_mod\"]) \n",
      "from basic_player import basic_player\n",
      "from game_mod import game_moderator"
     ],
     "language": "python",
     "metadata": {},
     "outputs": [],
     "prompt_number": 6
    },
    {
     "cell_type": "code",
     "collapsed": false,
     "input": [
      "players = [basic_player() for i in range(5)]\n",
      "\n",
      "print(\"Creating game...\")\n",
      "mod = game_moderator(players)\n",
      "for player in players:\n",
      "    print(\"Player %d is resistance? %s\" % (player.idx, player.faction))\n",
      "    \n",
      "res_score = 0\n",
      "spy_score = 0\n",
      "for i in range(5):\n",
      "    print(\"------------- Starting mission %d -------------\" % i)\n",
      "    result = mod.run_mission(mod.missions[i])\n",
      "    if not result:\n",
      "        spy_score += 1\n",
      "    else: \n",
      "        res_score += 1\n",
      "    print(\"Mission passed? %s\" % result)\n",
      "    \n",
      "    if res_score == 3 or spy_score == 3:\n",
      "        break\n",
      "        \n",
      "if res_score == 3:\n",
      "    print(\"------------- Resistance team wins! -------------\")\n",
      "else:\n",
      "    print(\"------------- Spy team wins! -------------\")"
     ],
     "language": "python",
     "metadata": {},
     "outputs": [
      {
       "output_type": "stream",
       "stream": "stdout",
       "text": [
        "Creating game...\n",
        "Player 0 is resistance? True\n",
        "Player 1 is resistance? True\n",
        "Player 2 is resistance? True\n",
        "Player 3 is resistance? False\n",
        "Player 4 is resistance? False\n",
        "------------- Starting mission 0 -------------\n",
        "Voting round 0\n",
        "0: Is resistance? True\n",
        "2: Is resistance? True\n",
        "Mission passed? True\n",
        "------------- Starting mission 1 -------------\n",
        "Voting round 0\n",
        "1: Is resistance? True\n",
        "0: Is resistance? True\n",
        "2: Is resistance? True\n",
        "Mission passed? True\n",
        "------------- Starting mission 2 -------------\n",
        "Voting round 0\n",
        "2: Is resistance? True\n",
        "0: Is resistance? True\n",
        "Mission passed? True\n",
        "------------- Resistance team wins! -------------\n"
       ]
      }
     ],
     "prompt_number": 14
    },
    {
     "cell_type": "code",
     "collapsed": false,
     "input": [],
     "language": "python",
     "metadata": {},
     "outputs": [],
     "prompt_number": 7
    },
    {
     "cell_type": "code",
     "collapsed": false,
     "input": [],
     "language": "python",
     "metadata": {},
     "outputs": [],
     "prompt_number": 66
    },
    {
     "cell_type": "code",
     "collapsed": false,
     "input": [],
     "language": "python",
     "metadata": {},
     "outputs": []
    }
   ],
   "metadata": {}
  }
 ]
}