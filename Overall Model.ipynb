{
 "metadata": {
  "name": "",
  "signature": "sha256:5e6336d577360708ee6aa8b9ac8ab327e75e10ba44a5ad4684f76414c74b95f8"
 },
 "nbformat": 3,
 "nbformat_minor": 0,
 "worksheets": [
  {
   "cells": [
    {
     "cell_type": "code",
     "collapsed": false,
     "input": [
      "if 'basic_player' in sys.modules:  \n",
      "    del(sys.modules[\"basic_player\"]) \n",
      "if 'game_mod' in sys.modules:  \n",
      "    del(sys.modules[\"game_mod\"]) \n",
      "from basic_player import basic_player\n",
      "from game_mod import game_moderator"
     ],
     "language": "python",
     "metadata": {},
     "outputs": [],
     "prompt_number": 137
    },
    {
     "cell_type": "code",
     "collapsed": false,
     "input": [
      "players = [basic_player() for i in range(5)]\n",
      "\n",
      "print(\"Creating game...\")\n",
      "mod = game_moderator(players, 100)\n",
      "for player in players:\n",
      "    print(\"Player %d is resistance? %s\" % (player.idx, player.faction))\n",
      "    \n",
      "res_score = 0\n",
      "spy_score = 0\n",
      "for i in range(5):\n",
      "    print(\"------------- Starting mission %d -------------\" % i)\n",
      "    result = mod.run_mission(mod.missions[i])\n",
      "    if not result:\n",
      "        spy_score += 1\n",
      "    else: \n",
      "        res_score += 1\n",
      "    print(\"Mission passed? %s\" % result)\n",
      "    \n",
      "    if res_score == 3 or spy_score == 3:\n",
      "        break\n",
      "        \n",
      "if res_score == 3:\n",
      "    print(\"------------- Resistance team wins! -------------\")\n",
      "else:\n",
      "    print(\"------------- Spy team wins! -------------\")"
     ],
     "language": "python",
     "metadata": {},
     "outputs": [
      {
       "output_type": "stream",
       "stream": "stdout",
       "text": [
        "Creating game...\n",
        "Player 0 is resistance? False\n",
        "Player 1 is resistance? True\n",
        "Player 2 is resistance? True\n",
        "Player 3 is resistance? False\n",
        "Player 4 is resistance? True\n",
        "------------- Starting mission 0 -------------\n",
        "Voting round 0\n",
        "0: Is resistance? False"
       ]
      },
      {
       "output_type": "stream",
       "stream": "stdout",
       "text": [
        "\n",
        "3: Is resistance? False\n",
        "Mission passed? False"
       ]
      },
      {
       "output_type": "stream",
       "stream": "stdout",
       "text": [
        "\n",
        "------------- Starting mission 1 -------------\n",
        "Voting round 0\n",
        "1: Is resistance? True"
       ]
      },
      {
       "output_type": "stream",
       "stream": "stdout",
       "text": [
        "\n",
        "0: Is resistance? False\n",
        "2: Is resistance? True\n",
        "Mission passed? False"
       ]
      },
      {
       "output_type": "stream",
       "stream": "stdout",
       "text": [
        "\n",
        "------------- Starting mission 2 -------------\n",
        "Voting round 0\n",
        "2: Is resistance? True"
       ]
      },
      {
       "output_type": "stream",
       "stream": "stdout",
       "text": [
        "\n",
        "0: Is resistance? False\n",
        "Mission passed? False"
       ]
      },
      {
       "output_type": "stream",
       "stream": "stdout",
       "text": [
        "\n",
        "------------- Spy team wins! -------------\n"
       ]
      }
     ],
     "prompt_number": 138
    },
    {
     "cell_type": "code",
     "collapsed": false,
     "input": [],
     "language": "python",
     "metadata": {},
     "outputs": [],
     "prompt_number": 134
    },
    {
     "cell_type": "code",
     "collapsed": false,
     "input": [
      "spy_wins = 0\n",
      "resistance_wins = 0\n",
      "missions_to_win = {\n",
      "    3: 0,\n",
      "    4: 0,\n",
      "    5: 0\n",
      "}\n",
      "match_players = []\n",
      "match_results = [] # True == \"res win\" else \"spy win\"\n",
      "trials = 1000\n",
      "for i in range(trials):\n",
      "    players = [basic_player() for i in range(5)]\n",
      "\n",
      "    #print(\"Creating game...\")\n",
      "    mod = game_moderator(players)\n",
      "    #for player in players:\n",
      "    #    print(\"Player %d is resistance? %s\" % (player.idx, player.faction))\n",
      "\n",
      "    res_score = 0\n",
      "    spy_score = 0\n",
      "    win_round = 5\n",
      "    for i in range(5):\n",
      "        #print(\"------------- Starting mission %d -------------\" % i)\n",
      "        result = mod.run_mission(mod.missions[i], silent=True)\n",
      "        if not result:\n",
      "            spy_score += 1\n",
      "        else: \n",
      "            res_score += 1\n",
      "        #print(\"Mission passed? %s\" % result)\n",
      "\n",
      "        if res_score == 3 or spy_score == 3:\n",
      "            win_round = i\n",
      "            break\n",
      "\n",
      "    if res_score == 3:\n",
      "        resistance_wins += 1\n",
      "        match_results.append(True)\n",
      "    else:\n",
      "        spy_wins += 1\n",
      "        match_results.append(False)\n",
      "    missions_to_win[win_round+1] += 1\n",
      "    match_players.append(players)\n",
      "    "
     ],
     "language": "python",
     "metadata": {},
     "outputs": [],
     "prompt_number": 126
    },
    {
     "cell_type": "code",
     "collapsed": false,
     "input": [
      "labels = 'Spies', 'Resistance'\n",
      "sizes = [(float(spy_wins)/trials)*100, (float(resistance_wins)/trials)*100]\n",
      "colors = ['lightcoral', 'lightskyblue']\n",
      "\n",
      "plt.pie(sizes, labels=labels, colors=colors,\n",
      "        autopct='%1.1f%%', shadow=True, startangle=90)\n",
      "# Set aspect ratio to be equal so that pie is drawn as a circle.\n",
      "plt.axis('equal')\n",
      "\n",
      "plt.show()"
     ],
     "language": "python",
     "metadata": {},
     "outputs": [
      {
       "metadata": {},
       "output_type": "display_data",
       "png": "[encoded data removed]",
       "text": [
        "<matplotlib.figure.Figure at 0x114843250>"
       ]
      }
     ],
     "prompt_number": 127
    },
    {
     "cell_type": "code",
     "collapsed": false,
     "input": [
      "spy_graph_wins = sum([1 for i in range(len(match_results)) if not match_players[i][0].faction and not match_results[i]]), sum([1 for i in range(len(match_results)) if match_players[i][0].faction and not match_results[i]])\n",
      "res_graph_wins = sum([1 for i in range(len(match_results)) if not match_players[i][0].faction and match_results[i]]), sum([1 for i in range(len(match_results)) if match_players[i][0].faction and match_results[i]])\n",
      "fig, ax = plt.subplots()\n",
      "N = 2\n",
      "ind = np.arange(N)    # the x locations for the groups\n",
      "width = 0.35         # the width of the bars\n",
      "p1 = ax.bar(ind, spy_graph_wins, width, color='r', bottom=0)\n",
      "p2 = ax.bar(ind+width, res_graph_wins, width, color='y', bottom=0)\n",
      "\n",
      "ax.set_title('Wins by start and team')\n",
      "ax.set_xticks(ind+width)\n",
      "ax.set_xticklabels( ('Spy Start', 'Resistance Start') )\n",
      "\n",
      "ax.legend( (p1[0], p2[0]), ('Spys Win', 'Resistance Wins') )\n",
      "ax.autoscale_view()\n",
      "\n",
      "plt.show()"
     ],
     "language": "python",
     "metadata": {},
     "outputs": [
      {
       "metadata": {},
       "output_type": "display_data",
       "png": "[encoded data removed]",
       "text": [
        "<matplotlib.figure.Figure at 0x110b61d50>"
       ]
      }
     ],
     "prompt_number": 129
    },
    {
     "cell_type": "code",
     "collapsed": false,
     "input": [],
     "language": "python",
     "metadata": {},
     "outputs": []
    }
   ],
   "metadata": {}
  }
 ]
}