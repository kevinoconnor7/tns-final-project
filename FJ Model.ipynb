{
 "metadata": {
  "name": "",
  "signature": "sha256:5a45e829db6f5554906c1be8612dc0934d584995b2a33e66d7bc2557d5446999"
 },
 "nbformat": 3,
 "nbformat_minor": 0,
 "worksheets": [
  {
   "cells": [
    {
     "cell_type": "code",
     "collapsed": false,
     "input": [
      "import numpy as np"
     ],
     "language": "python",
     "metadata": {},
     "outputs": [],
     "prompt_number": 1
    },
    {
     "cell_type": "code",
     "collapsed": false,
     "input": [
      "num_players = 5\n",
      "num_spies = 1 + (num_players-1) / 3\n",
      "num_resistance = num_players - num_spies\n",
      "print(\"Players: %d\\nSpies: %d\\nResistance: %d\" % (num_players, num_spies, num_resistance))"
     ],
     "language": "python",
     "metadata": {},
     "outputs": [
      {
       "output_type": "stream",
       "stream": "stdout",
       "text": [
        "Players: 5\n",
        "Spies: 2\n",
        "Resistance: 2\n"
       ]
      }
     ],
     "prompt_number": 4
    },
    {
     "cell_type": "code",
     "collapsed": false,
     "input": [
      "g_matrix = []\n",
      "x_matrix = []\n",
      "x_initial_matrix = []\n",
      "for i in range(num_players):\n",
      "    G = 0.5*np.eye(num_players)\n",
      "    #G[i][i] = 1.\n",
      "    \n",
      "    #if i < num_spies:\n",
      "    #    for j in range(num_spies):\n",
      "    #        G[j][j] = 1.\n",
      "    g_matrix.append(G)\n",
      "    x_matrix.append(np.ones((num_players, 1)))\n",
      "    x_initial_matrix.append(x_matrix[-1])"
     ],
     "language": "python",
     "metadata": {},
     "outputs": [],
     "prompt_number": 92
    },
    {
     "cell_type": "code",
     "collapsed": false,
     "input": [
      "#G = 0.5*np.eye(num_players)"
     ],
     "language": "python",
     "metadata": {},
     "outputs": [],
     "prompt_number": 93
    },
    {
     "cell_type": "code",
     "collapsed": false,
     "input": [
      "print g_matrix\n",
      "print x_matrix\n",
      "print x_initial_matrix"
     ],
     "language": "python",
     "metadata": {},
     "outputs": [
      {
       "output_type": "stream",
       "stream": "stdout",
       "text": [
        "[array([[ 0.5,  0. ,  0. ,  0. ,  0. ],\n",
        "       [ 0. ,  0.5,  0. ,  0. ,  0. ],\n",
        "       [ 0. ,  0. ,  0.5,  0. ,  0. ],\n",
        "       [ 0. ,  0. ,  0. ,  0.5,  0. ],\n",
        "       [ 0. ,  0. ,  0. ,  0. ,  0.5]]), array([[ 0.5,  0. ,  0. ,  0. ,  0. ],\n",
        "       [ 0. ,  0.5,  0. ,  0. ,  0. ],\n",
        "       [ 0. ,  0. ,  0.5,  0. ,  0. ],\n",
        "       [ 0. ,  0. ,  0. ,  0.5,  0. ],\n",
        "       [ 0. ,  0. ,  0. ,  0. ,  0.5]]), array([[ 0.5,  0. ,  0. ,  0. ,  0. ],\n",
        "       [ 0. ,  0.5,  0. ,  0. ,  0. ],\n",
        "       [ 0. ,  0. ,  0.5,  0. ,  0. ],\n",
        "       [ 0. ,  0. ,  0. ,  0.5,  0. ],\n",
        "       [ 0. ,  0. ,  0. ,  0. ,  0.5]]), array([[ 0.5,  0. ,  0. ,  0. ,  0. ],\n",
        "       [ 0. ,  0.5,  0. ,  0. ,  0. ],\n",
        "       [ 0. ,  0. ,  0.5,  0. ,  0. ],\n",
        "       [ 0. ,  0. ,  0. ,  0.5,  0. ],\n",
        "       [ 0. ,  0. ,  0. ,  0. ,  0.5]]), array([[ 0.5,  0. ,  0. ,  0. ,  0. ],\n",
        "       [ 0. ,  0.5,  0. ,  0. ,  0. ],\n",
        "       [ 0. ,  0. ,  0.5,  0. ,  0. ],\n",
        "       [ 0. ,  0. ,  0. ,  0.5,  0. ],\n",
        "       [ 0. ,  0. ,  0. ,  0. ,  0.5]])]\n",
        "[array([[ 1.],\n",
        "       [ 1.],\n",
        "       [ 1.],\n",
        "       [ 1.],\n",
        "       [ 1.]]), array([[ 1.],\n",
        "       [ 1.],\n",
        "       [ 1.],\n",
        "       [ 1.],\n",
        "       [ 1.]]), array([[ 1.],\n",
        "       [ 1.],\n",
        "       [ 1.],\n",
        "       [ 1.],\n",
        "       [ 1.]]), array([[ 1.],\n",
        "       [ 1.],\n",
        "       [ 1.],\n",
        "       [ 1.],\n",
        "       [ 1.]]), array([[ 1.],\n",
        "       [ 1.],\n",
        "       [ 1.],\n",
        "       [ 1.],\n",
        "       [ 1.]])]\n",
        "[array([[ 1.],\n",
        "       [ 1.],\n",
        "       [ 1.],\n",
        "       [ 1.],\n",
        "       [ 1.]]), array([[ 1.],\n",
        "       [ 1.],\n",
        "       [ 1.],\n",
        "       [ 1.],\n",
        "       [ 1.]]), array([[ 1.],\n",
        "       [ 1.],\n",
        "       [ 1.],\n",
        "       [ 1.],\n",
        "       [ 1.]]), array([[ 1.],\n",
        "       [ 1.],\n",
        "       [ 1.],\n",
        "       [ 1.],\n",
        "       [ 1.]]), array([[ 1.],\n",
        "       [ 1.],\n",
        "       [ 1.],\n",
        "       [ 1.],\n",
        "       [ 1.]])]\n"
       ]
      }
     ],
     "prompt_number": 94
    },
    {
     "cell_type": "code",
     "collapsed": false,
     "input": [
      "#x = np.random.rand(num_players,1)#np.zeros((num_players, 1))\n",
      "A = np.zeros((num_players, num_players))+1./num_players\n",
      "initial_x = x\n",
      "#print x\n",
      "print A\n",
      "for i in xrange(10000):\n",
      "    for j in xrange(num_players):\n",
      "        #x = G*initial_x+(np.eye(num_players) - G)*A*x\n",
      "        x_matrix[j] = g_matrix[j]*x_initial_matrix[j]+(np.eye(num_players) - g_matrix[j])*A*x_matrix[j]\n",
      "print x_matrix"
     ],
     "language": "python",
     "metadata": {},
     "outputs": [
      {
       "output_type": "stream",
       "stream": "stdout",
       "text": [
        "[[ 0.2  0.2  0.2  0.2  0.2]\n",
        " [ 0.2  0.2  0.2  0.2  0.2]\n",
        " [ 0.2  0.2  0.2  0.2  0.2]\n",
        " [ 0.2  0.2  0.2  0.2  0.2]\n",
        " [ 0.2  0.2  0.2  0.2  0.2]]\n",
        "[array([[ 0.55555556,  0.        ,  0.        ,  0.        ,  0.        ],\n",
        "       [ 0.        ,  0.55555556,  0.        ,  0.        ,  0.        ],\n",
        "       [ 0.        ,  0.        ,  0.55555556,  0.        ,  0.        ],\n",
        "       [ 0.        ,  0.        ,  0.        ,  0.55555556,  0.        ],\n",
        "       [ 0.        ,  0.        ,  0.        ,  0.        ,  0.55555556]]), array([[ 0.55555556,  0.        ,  0.        ,  0.        ,  0.        ],\n",
        "       [ 0.        ,  0.55555556,  0.        ,  0.        ,  0.        ],\n",
        "       [ 0.        ,  0.        ,  0.55555556,  0.        ,  0.        ],\n",
        "       [ 0.        ,  0.        ,  0.        ,  0.55555556,  0.        ],\n",
        "       [ 0.        ,  0.        ,  0.        ,  0.        ,  0.55555556]]), array([[ 0.55555556,  0.        ,  0.        ,  0.        ,  0.        ],\n",
        "       [ 0.        ,  0.55555556,  0.        ,  0.        ,  0.        ],\n",
        "       [ 0.        ,  0.        ,  0.55555556,  0.        ,  0.        ],\n",
        "       [ 0.        ,  0.        ,  0.        ,  0.55555556,  0.        ],\n",
        "       [ 0.        ,  0.        ,  0.        ,  0.        ,  0.55555556]]), array([[ 0.55555556,  0.        ,  0.        ,  0.        ,  0.        ],\n",
        "       [ 0.        ,  0.55555556,  0.        ,  0.        ,  0.        ],\n",
        "       [ 0.        ,  0.        ,  0.55555556,  0.        ,  0.        ],\n",
        "       [ 0.        ,  0.        ,  0.        ,  0.55555556,  0.        ],\n",
        "       [ 0.        ,  0.        ,  0.        ,  0.        ,  0.55555556]]), array([[ 0.55555556,  0.        ,  0.        ,  0.        ,  0.        ],\n",
        "       [ 0.        ,  0.55555556,  0.        ,  0.        ,  0.        ],\n",
        "       [ 0.        ,  0.        ,  0.55555556,  0.        ,  0.        ],\n",
        "       [ 0.        ,  0.        ,  0.        ,  0.55555556,  0.        ],\n",
        "       [ 0.        ,  0.        ,  0.        ,  0.        ,  0.55555556]])]"
       ]
      },
      {
       "output_type": "stream",
       "stream": "stdout",
       "text": [
        "\n"
       ]
      }
     ],
     "prompt_number": 95
    },
    {
     "cell_type": "code",
     "collapsed": false,
     "input": [],
     "language": "python",
     "metadata": {},
     "outputs": [],
     "prompt_number": 62
    },
    {
     "cell_type": "code",
     "collapsed": false,
     "input": [],
     "language": "python",
     "metadata": {},
     "outputs": []
    }
   ],
   "metadata": {}
  }
 ]
}